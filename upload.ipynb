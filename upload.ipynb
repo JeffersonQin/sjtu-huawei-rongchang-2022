{
 "cells": [
  {
   "cell_type": "code",
   "execution_count": null,
   "metadata": {},
   "outputs": [],
   "source": [
    "# 下载对应代码\n",
    "import moxing as mox\n",
    "mox.file.copy_parallel('obs://ma-competitions-bj4/wrc2022/wrc/','wrc')"
   ]
  },
  {
   "cell_type": "code",
   "execution_count": null,
   "metadata": {},
   "outputs": [],
   "source": [
    "# 将 wrc/model/model_best.pth 替换为训练好的模型文件，并改名\n",
    "# 将 wrc/model/configs/mask_rcnn/wrc.py 内容替换为 wrc/ckpt 下生成的当次训练的 config 文件，并改名"
   ]
  },
  {
   "cell_type": "code",
   "execution_count": null,
   "metadata": {},
   "outputs": [],
   "source": [
    "%cd wrc\n",
    "from modelarts.session import Session\n",
    "from modelarts.model import Model\n",
    "from modelarts.config.model_config import TransformerConfig,Params\n",
    "import moxing as mox\n",
    "import json\n",
    "import re\n",
    "import traceback\n",
    "import random\n",
    "\n",
    "try:\n",
    "    session = Session()\n",
    "    config_path = 'model/config.json' \n",
    "    if mox.file.exists(config_path):                                        # 判断一下是否存在配置文件，如果没有则不能导入模型\n",
    "        model_location =  'model'\n",
    "        model_name = \"wrc\"\n",
    "        load_dict = json.loads(mox.file.read(config_path))\n",
    "        model_type = load_dict['model_type']\n",
    "        re_name = '_'+str(random.randint(0,1000))\n",
    "        model_name += re_name\n",
    "        print(\"正在导入模型,模型名称：\", model_name)\n",
    "        model_instance = Model(\n",
    "                    session, \n",
    "                    model_name=model_name,               # 模型名称\n",
    "                    model_version=\"1.0.0\",               # 模型版本\n",
    "                    source_location_type='LOCAL_SOURCE',\n",
    "                    source_location=model_location,      # 模型文件路径\n",
    "                    model_type=model_type,               # 模型类型\n",
    "                    )\n",
    "        print(\"所有模型导入完成\")\n",
    "    else:\n",
    "        print(\"模型包不存在\")\n",
    "    \n",
    "except Exception as e:\n",
    "    print(\"发生了一些问题，请看下面的报错信息：\") \n",
    "    traceback.print_exc()\n",
    "    print(\"模型导入失败\")"
   ]
  }
 ],
 "metadata": {
  "language_info": {
   "name": "python"
  },
  "orig_nbformat": 4
 },
 "nbformat": 4,
 "nbformat_minor": 2
}
